{
 "cells": [
  {
   "cell_type": "markdown",
   "id": "afe59338",
   "metadata": {},
   "source": [
    "# Stock Trades vs. Geographic Regions Classification Project\n",
    "\n",
    "This project uses public data about the stock trades made by members of the US House of Representatives. This data is collected and maintained by Timothy Carambat as part of the [House Stock Watcher](https://housestockwatcher.com/) project. "
   ]
  },
  {
   "cell_type": "markdown",
   "id": "134b20b0",
   "metadata": {},
   "source": [
    "## Summary of Findings\n",
    "\n",
    "\n",
    "### Introduction\n",
    "\n",
    "In this project, we are attempting to answer the question of whether or not we can predict the geographic region that a U.S. representative comes from using informations about their stock trade. This is a classification problem with our target variable being the greographic region, which contains 4 categories: Midwest, West, Northest, and South. We are grouping the districts into geographic regions to reduce the complexity of the classification task, and we will be using F1 score as our evaluation metric for the classification model.\n",
    "\n",
    "### Baseline Model\n",
    "In our baseline model, we used five features: `'disclosure_year'` (ordinal), `'owner'` (nominal), `'type'` (nominal), `'amount'` (ordinal), and `'cap_gains_over_200_usd'` (nominal).\n",
    "\n",
    "As a measure of the accuracy of our model, the f1-score for the training subset is approximately 0.54 and the score for the testing subset is around 0.53. Both scores are very low, but given that we have 4 categories, it is an okay score to start with. The gap between the two scores is very small, which meant that the model is not overfitting. But since both scores are relatively low, it suggests that we need to be more selective and apply more effective transformations to prediction vairables to improve the model's accuracy. Although the baseline model doesn't show signs of overfitting, the model may improve in accuracy if we increase the complexity. Therefore, we would still need to perform a Grid Search to determine the best combination of values for the hyperparameters of our model. \n",
    "\n",
    "### Final Model\n",
    "\n",
    "In our final model, we added 2 features by transforming the columns `'ticker'` and `'asset_description'`. For `'ticker'`, due to the large number of unique tickers in our dataset, we couldn't just apply one-hot encoding to the values. Therefore, we categorized the stocks into 3 ordinal groups by the number of times each ticker is traded within this dataset. The tickers that have been traded for over 10 times are in group 3; the tickers that have been traded between 1 and 10 times are in group 2, and the rest that have only been traded once are in group 1. This may help our classification algroithm in that the number of times a stock is traded may be related to the popularity and size of the company, which may have some relationship to the geographical locations.\n",
    "\n",
    "For the column `'asset_description'`, we applied a CountVectorizer to transform the descriptions with a bag-of-words approach because we discovered that each entry contained important keywords that describes the business. The addition of this feature improves our model since it will be able to represent the relatedness of stocks given the keyword vectors. \n",
    "\n",
    "In addition, we also performed a grid search to find the best combination of values for the hyperparameters for our Random Forest Classifier. The hyperparameter values we found to perform the best are {'clf__max_depth': 100, 'clf__n_estimators': 500}\n",
    "\n",
    "We picked Random Forest Classifier to use as our model because we have a relatively large dataset, and the complexity of the relationships between the predictor variables and geographic locations suggests that we would need to build a relatively complex model. Since Random Forest is essentially made of multiple decision trees, we decided that it would be a better fit for this classification problem.\n",
    "\n",
    "\n",
    "### Fairness Evaluation\n",
    "\n",
    "We performed an accuracy parity test on our classification model on the amount of money traded in relation to the accuracy of the classifications made. We decided to use accuracy as our parity measure due to the nature of our classification problem. Since we have 4 geographic regions to classify the trades into, recall and precision scores would be hard to compute and a bit irrelevant and nonrepresentational as a parity measure of this problem. Therefore, we chose accuracy as our measure to determine whether or not our classification model is fair for trades that were traded for over 15,000 USD and those that were traded for a lesser amount. With a p-value of 0.0, we have found that our model is not fair in regards to the trading amount and that it makes more accurate classifications when the trading amount is large."
   ]
  },
  {
   "cell_type": "markdown",
   "id": "864493d1",
   "metadata": {},
   "source": [
    "# Code"
   ]
  },
  {
   "cell_type": "code",
   "execution_count": 1,
   "id": "fe675ec9",
   "metadata": {},
   "outputs": [],
   "source": [
    "import matplotlib.pyplot as plt\n",
    "import numpy as np\n",
    "import os\n",
    "import pandas as pd\n",
    "import seaborn as sns\n",
    "%matplotlib inline\n",
    "%config InlineBackend.figure_format = 'retina'  # Higher resolution figures"
   ]
  },
  {
   "cell_type": "markdown",
   "id": "587871b4",
   "metadata": {},
   "source": [
    "### Building a Baseline Model"
   ]
  },
  {
   "cell_type": "markdown",
   "id": "bf105162",
   "metadata": {},
   "source": [
    "#### Taking a look at our dataset:"
   ]
  },
  {
   "cell_type": "code",
   "execution_count": 2,
   "id": "7dde949a",
   "metadata": {},
   "outputs": [
    {
     "data": {
      "text/html": [
       "<div>\n",
       "<style scoped>\n",
       "    .dataframe tbody tr th:only-of-type {\n",
       "        vertical-align: middle;\n",
       "    }\n",
       "\n",
       "    .dataframe tbody tr th {\n",
       "        vertical-align: top;\n",
       "    }\n",
       "\n",
       "    .dataframe thead th {\n",
       "        text-align: right;\n",
       "    }\n",
       "</style>\n",
       "<table border=\"1\" class=\"dataframe\">\n",
       "  <thead>\n",
       "    <tr style=\"text-align: right;\">\n",
       "      <th></th>\n",
       "      <th>disclosure_year</th>\n",
       "      <th>disclosure_date</th>\n",
       "      <th>transaction_date</th>\n",
       "      <th>owner</th>\n",
       "      <th>ticker</th>\n",
       "      <th>asset_description</th>\n",
       "      <th>type</th>\n",
       "      <th>amount</th>\n",
       "      <th>representative</th>\n",
       "      <th>district</th>\n",
       "      <th>ptr_link</th>\n",
       "      <th>cap_gains_over_200_usd</th>\n",
       "    </tr>\n",
       "  </thead>\n",
       "  <tbody>\n",
       "    <tr>\n",
       "      <th>0</th>\n",
       "      <td>2021</td>\n",
       "      <td>10/04/2021</td>\n",
       "      <td>2021-09-27</td>\n",
       "      <td>joint</td>\n",
       "      <td>BP</td>\n",
       "      <td>BP plc</td>\n",
       "      <td>purchase</td>\n",
       "      <td>$1,001 - $15,000</td>\n",
       "      <td>Hon. Virginia Foxx</td>\n",
       "      <td>NC05</td>\n",
       "      <td>https://disclosures-clerk.house.gov/public_dis...</td>\n",
       "      <td>False</td>\n",
       "    </tr>\n",
       "    <tr>\n",
       "      <th>1</th>\n",
       "      <td>2021</td>\n",
       "      <td>10/04/2021</td>\n",
       "      <td>2021-09-13</td>\n",
       "      <td>joint</td>\n",
       "      <td>XOM</td>\n",
       "      <td>Exxon Mobil Corporation</td>\n",
       "      <td>purchase</td>\n",
       "      <td>$1,001 - $15,000</td>\n",
       "      <td>Hon. Virginia Foxx</td>\n",
       "      <td>NC05</td>\n",
       "      <td>https://disclosures-clerk.house.gov/public_dis...</td>\n",
       "      <td>False</td>\n",
       "    </tr>\n",
       "    <tr>\n",
       "      <th>2</th>\n",
       "      <td>2021</td>\n",
       "      <td>10/04/2021</td>\n",
       "      <td>2021-09-10</td>\n",
       "      <td>joint</td>\n",
       "      <td>ILPT</td>\n",
       "      <td>Industrial Logistics Properties Trust - Common...</td>\n",
       "      <td>purchase</td>\n",
       "      <td>$15,001 - $50,000</td>\n",
       "      <td>Hon. Virginia Foxx</td>\n",
       "      <td>NC05</td>\n",
       "      <td>https://disclosures-clerk.house.gov/public_dis...</td>\n",
       "      <td>False</td>\n",
       "    </tr>\n",
       "    <tr>\n",
       "      <th>3</th>\n",
       "      <td>2021</td>\n",
       "      <td>10/04/2021</td>\n",
       "      <td>2021-09-28</td>\n",
       "      <td>joint</td>\n",
       "      <td>PM</td>\n",
       "      <td>Phillip Morris International Inc</td>\n",
       "      <td>purchase</td>\n",
       "      <td>$15,001 - $50,000</td>\n",
       "      <td>Hon. Virginia Foxx</td>\n",
       "      <td>NC05</td>\n",
       "      <td>https://disclosures-clerk.house.gov/public_dis...</td>\n",
       "      <td>False</td>\n",
       "    </tr>\n",
       "    <tr>\n",
       "      <th>4</th>\n",
       "      <td>2021</td>\n",
       "      <td>10/04/2021</td>\n",
       "      <td>2021-09-17</td>\n",
       "      <td>self</td>\n",
       "      <td>BLK</td>\n",
       "      <td>BlackRock Inc</td>\n",
       "      <td>sale_partial</td>\n",
       "      <td>$1,001 - $15,000</td>\n",
       "      <td>Hon. Alan S. Lowenthal</td>\n",
       "      <td>CA47</td>\n",
       "      <td>https://disclosures-clerk.house.gov/public_dis...</td>\n",
       "      <td>False</td>\n",
       "    </tr>\n",
       "  </tbody>\n",
       "</table>\n",
       "</div>"
      ],
      "text/plain": [
       "   disclosure_year disclosure_date transaction_date  owner ticker  \\\n",
       "0             2021      10/04/2021       2021-09-27  joint     BP   \n",
       "1             2021      10/04/2021       2021-09-13  joint    XOM   \n",
       "2             2021      10/04/2021       2021-09-10  joint   ILPT   \n",
       "3             2021      10/04/2021       2021-09-28  joint     PM   \n",
       "4             2021      10/04/2021       2021-09-17   self    BLK   \n",
       "\n",
       "                                   asset_description          type  \\\n",
       "0                                             BP plc      purchase   \n",
       "1                            Exxon Mobil Corporation      purchase   \n",
       "2  Industrial Logistics Properties Trust - Common...      purchase   \n",
       "3                   Phillip Morris International Inc      purchase   \n",
       "4                                      BlackRock Inc  sale_partial   \n",
       "\n",
       "              amount          representative district  \\\n",
       "0   $1,001 - $15,000      Hon. Virginia Foxx     NC05   \n",
       "1   $1,001 - $15,000      Hon. Virginia Foxx     NC05   \n",
       "2  $15,001 - $50,000      Hon. Virginia Foxx     NC05   \n",
       "3  $15,001 - $50,000      Hon. Virginia Foxx     NC05   \n",
       "4   $1,001 - $15,000  Hon. Alan S. Lowenthal     CA47   \n",
       "\n",
       "                                            ptr_link  cap_gains_over_200_usd  \n",
       "0  https://disclosures-clerk.house.gov/public_dis...                   False  \n",
       "1  https://disclosures-clerk.house.gov/public_dis...                   False  \n",
       "2  https://disclosures-clerk.house.gov/public_dis...                   False  \n",
       "3  https://disclosures-clerk.house.gov/public_dis...                   False  \n",
       "4  https://disclosures-clerk.house.gov/public_dis...                   False  "
      ]
     },
     "execution_count": 2,
     "metadata": {},
     "output_type": "execute_result"
    }
   ],
   "source": [
    "transactions = pd.read_csv('all_transactions.csv')\n",
    "transactions.head()"
   ]
  },
  {
   "cell_type": "code",
   "execution_count": 3,
   "id": "077f81d4",
   "metadata": {},
   "outputs": [
    {
     "data": {
      "text/plain": [
       "2020    7379\n",
       "2021    5520\n",
       "2022    2800\n",
       "Name: disclosure_year, dtype: int64"
      ]
     },
     "execution_count": 3,
     "metadata": {},
     "output_type": "execute_result"
    }
   ],
   "source": [
    "transactions['disclosure_year'].value_counts()"
   ]
  },
  {
   "cell_type": "markdown",
   "id": "6ce68f49",
   "metadata": {},
   "source": [
    "#### Our dataset have 15699 rows of data, each containing information of a trade taken by a Congress representative."
   ]
  },
  {
   "cell_type": "code",
   "execution_count": 4,
   "id": "82b8ad7c",
   "metadata": {},
   "outputs": [
    {
     "data": {
      "text/plain": [
       "(15699, 12)"
      ]
     },
     "execution_count": 4,
     "metadata": {},
     "output_type": "execute_result"
    }
   ],
   "source": [
    "transactions.shape"
   ]
  },
  {
   "cell_type": "markdown",
   "id": "73487f16",
   "metadata": {},
   "source": [
    "We will need to first transform the district column into **geographic regions** -- our target variable"
   ]
  },
  {
   "cell_type": "code",
   "execution_count": 5,
   "id": "3a17ba7a",
   "metadata": {},
   "outputs": [
    {
     "data": {
      "text/html": [
       "<div>\n",
       "<style scoped>\n",
       "    .dataframe tbody tr th:only-of-type {\n",
       "        vertical-align: middle;\n",
       "    }\n",
       "\n",
       "    .dataframe tbody tr th {\n",
       "        vertical-align: top;\n",
       "    }\n",
       "\n",
       "    .dataframe thead th {\n",
       "        text-align: right;\n",
       "    }\n",
       "</style>\n",
       "<table border=\"1\" class=\"dataframe\">\n",
       "  <thead>\n",
       "    <tr style=\"text-align: right;\">\n",
       "      <th></th>\n",
       "      <th>disclosure_year</th>\n",
       "      <th>disclosure_date</th>\n",
       "      <th>transaction_date</th>\n",
       "      <th>owner</th>\n",
       "      <th>ticker</th>\n",
       "      <th>asset_description</th>\n",
       "      <th>type</th>\n",
       "      <th>amount</th>\n",
       "      <th>representative</th>\n",
       "      <th>district</th>\n",
       "      <th>ptr_link</th>\n",
       "      <th>cap_gains_over_200_usd</th>\n",
       "      <th>region</th>\n",
       "    </tr>\n",
       "  </thead>\n",
       "  <tbody>\n",
       "    <tr>\n",
       "      <th>0</th>\n",
       "      <td>2021</td>\n",
       "      <td>10/04/2021</td>\n",
       "      <td>2021-09-27</td>\n",
       "      <td>joint</td>\n",
       "      <td>BP</td>\n",
       "      <td>BP plc</td>\n",
       "      <td>purchase</td>\n",
       "      <td>$1,001 - $15,000</td>\n",
       "      <td>Hon. Virginia Foxx</td>\n",
       "      <td>NC05</td>\n",
       "      <td>https://disclosures-clerk.house.gov/public_dis...</td>\n",
       "      <td>False</td>\n",
       "      <td>south</td>\n",
       "    </tr>\n",
       "    <tr>\n",
       "      <th>1</th>\n",
       "      <td>2021</td>\n",
       "      <td>10/04/2021</td>\n",
       "      <td>2021-09-13</td>\n",
       "      <td>joint</td>\n",
       "      <td>XOM</td>\n",
       "      <td>Exxon Mobil Corporation</td>\n",
       "      <td>purchase</td>\n",
       "      <td>$1,001 - $15,000</td>\n",
       "      <td>Hon. Virginia Foxx</td>\n",
       "      <td>NC05</td>\n",
       "      <td>https://disclosures-clerk.house.gov/public_dis...</td>\n",
       "      <td>False</td>\n",
       "      <td>south</td>\n",
       "    </tr>\n",
       "    <tr>\n",
       "      <th>2</th>\n",
       "      <td>2021</td>\n",
       "      <td>10/04/2021</td>\n",
       "      <td>2021-09-10</td>\n",
       "      <td>joint</td>\n",
       "      <td>ILPT</td>\n",
       "      <td>Industrial Logistics Properties Trust - Common...</td>\n",
       "      <td>purchase</td>\n",
       "      <td>$15,001 - $50,000</td>\n",
       "      <td>Hon. Virginia Foxx</td>\n",
       "      <td>NC05</td>\n",
       "      <td>https://disclosures-clerk.house.gov/public_dis...</td>\n",
       "      <td>False</td>\n",
       "      <td>south</td>\n",
       "    </tr>\n",
       "    <tr>\n",
       "      <th>3</th>\n",
       "      <td>2021</td>\n",
       "      <td>10/04/2021</td>\n",
       "      <td>2021-09-28</td>\n",
       "      <td>joint</td>\n",
       "      <td>PM</td>\n",
       "      <td>Phillip Morris International Inc</td>\n",
       "      <td>purchase</td>\n",
       "      <td>$15,001 - $50,000</td>\n",
       "      <td>Hon. Virginia Foxx</td>\n",
       "      <td>NC05</td>\n",
       "      <td>https://disclosures-clerk.house.gov/public_dis...</td>\n",
       "      <td>False</td>\n",
       "      <td>south</td>\n",
       "    </tr>\n",
       "    <tr>\n",
       "      <th>4</th>\n",
       "      <td>2021</td>\n",
       "      <td>10/04/2021</td>\n",
       "      <td>2021-09-17</td>\n",
       "      <td>self</td>\n",
       "      <td>BLK</td>\n",
       "      <td>BlackRock Inc</td>\n",
       "      <td>sale_partial</td>\n",
       "      <td>$1,001 - $15,000</td>\n",
       "      <td>Hon. Alan S. Lowenthal</td>\n",
       "      <td>CA47</td>\n",
       "      <td>https://disclosures-clerk.house.gov/public_dis...</td>\n",
       "      <td>False</td>\n",
       "      <td>west</td>\n",
       "    </tr>\n",
       "    <tr>\n",
       "      <th>...</th>\n",
       "      <td>...</td>\n",
       "      <td>...</td>\n",
       "      <td>...</td>\n",
       "      <td>...</td>\n",
       "      <td>...</td>\n",
       "      <td>...</td>\n",
       "      <td>...</td>\n",
       "      <td>...</td>\n",
       "      <td>...</td>\n",
       "      <td>...</td>\n",
       "      <td>...</td>\n",
       "      <td>...</td>\n",
       "      <td>...</td>\n",
       "    </tr>\n",
       "    <tr>\n",
       "      <th>15694</th>\n",
       "      <td>2020</td>\n",
       "      <td>06/10/2020</td>\n",
       "      <td>2020-04-09</td>\n",
       "      <td>--</td>\n",
       "      <td>SWK</td>\n",
       "      <td>Stanley Black &amp; Decker, Inc.</td>\n",
       "      <td>sale_partial</td>\n",
       "      <td>$1,001 - $15,000</td>\n",
       "      <td>Hon. Ed Perlmutter</td>\n",
       "      <td>CO07</td>\n",
       "      <td>https://disclosures-clerk.house.gov/public_dis...</td>\n",
       "      <td>False</td>\n",
       "      <td>west</td>\n",
       "    </tr>\n",
       "    <tr>\n",
       "      <th>15695</th>\n",
       "      <td>2020</td>\n",
       "      <td>06/10/2020</td>\n",
       "      <td>2020-04-09</td>\n",
       "      <td>--</td>\n",
       "      <td>USB</td>\n",
       "      <td>U.S. Bancorp</td>\n",
       "      <td>sale_partial</td>\n",
       "      <td>$1,001 - $15,000</td>\n",
       "      <td>Hon. Ed Perlmutter</td>\n",
       "      <td>CO07</td>\n",
       "      <td>https://disclosures-clerk.house.gov/public_dis...</td>\n",
       "      <td>False</td>\n",
       "      <td>west</td>\n",
       "    </tr>\n",
       "    <tr>\n",
       "      <th>15696</th>\n",
       "      <td>2020</td>\n",
       "      <td>06/10/2020</td>\n",
       "      <td>2020-03-13</td>\n",
       "      <td>NaN</td>\n",
       "      <td>BMY</td>\n",
       "      <td>Bristol-Myers Squibb Company</td>\n",
       "      <td>sale_full</td>\n",
       "      <td>$100,001 - $250,000</td>\n",
       "      <td>Hon. Nicholas Van Taylor</td>\n",
       "      <td>TX03</td>\n",
       "      <td>https://disclosures-clerk.house.gov/public_dis...</td>\n",
       "      <td>False</td>\n",
       "      <td>south</td>\n",
       "    </tr>\n",
       "    <tr>\n",
       "      <th>15697</th>\n",
       "      <td>2020</td>\n",
       "      <td>06/10/2020</td>\n",
       "      <td>2020-03-13</td>\n",
       "      <td>NaN</td>\n",
       "      <td>LLY</td>\n",
       "      <td>Eli Lilly and Company</td>\n",
       "      <td>sale_full</td>\n",
       "      <td>$500,001 - $1,000,000</td>\n",
       "      <td>Hon. Nicholas Van Taylor</td>\n",
       "      <td>TX03</td>\n",
       "      <td>https://disclosures-clerk.house.gov/public_dis...</td>\n",
       "      <td>False</td>\n",
       "      <td>south</td>\n",
       "    </tr>\n",
       "    <tr>\n",
       "      <th>15698</th>\n",
       "      <td>2020</td>\n",
       "      <td>06/10/2020</td>\n",
       "      <td>2020-03-13</td>\n",
       "      <td>NaN</td>\n",
       "      <td>DIS</td>\n",
       "      <td>Walt Disney Company</td>\n",
       "      <td>sale_full</td>\n",
       "      <td>$250,001 - $500,000</td>\n",
       "      <td>Hon. Nicholas Van Taylor</td>\n",
       "      <td>TX03</td>\n",
       "      <td>https://disclosures-clerk.house.gov/public_dis...</td>\n",
       "      <td>False</td>\n",
       "      <td>south</td>\n",
       "    </tr>\n",
       "  </tbody>\n",
       "</table>\n",
       "<p>15699 rows × 13 columns</p>\n",
       "</div>"
      ],
      "text/plain": [
       "       disclosure_year disclosure_date transaction_date  owner ticker  \\\n",
       "0                 2021      10/04/2021       2021-09-27  joint     BP   \n",
       "1                 2021      10/04/2021       2021-09-13  joint    XOM   \n",
       "2                 2021      10/04/2021       2021-09-10  joint   ILPT   \n",
       "3                 2021      10/04/2021       2021-09-28  joint     PM   \n",
       "4                 2021      10/04/2021       2021-09-17   self    BLK   \n",
       "...                ...             ...              ...    ...    ...   \n",
       "15694             2020      06/10/2020       2020-04-09     --    SWK   \n",
       "15695             2020      06/10/2020       2020-04-09     --    USB   \n",
       "15696             2020      06/10/2020       2020-03-13    NaN    BMY   \n",
       "15697             2020      06/10/2020       2020-03-13    NaN    LLY   \n",
       "15698             2020      06/10/2020       2020-03-13    NaN    DIS   \n",
       "\n",
       "                                       asset_description          type  \\\n",
       "0                                                 BP plc      purchase   \n",
       "1                                Exxon Mobil Corporation      purchase   \n",
       "2      Industrial Logistics Properties Trust - Common...      purchase   \n",
       "3                       Phillip Morris International Inc      purchase   \n",
       "4                                          BlackRock Inc  sale_partial   \n",
       "...                                                  ...           ...   \n",
       "15694                       Stanley Black & Decker, Inc.  sale_partial   \n",
       "15695                                       U.S. Bancorp  sale_partial   \n",
       "15696                       Bristol-Myers Squibb Company     sale_full   \n",
       "15697                              Eli Lilly and Company     sale_full   \n",
       "15698                                Walt Disney Company     sale_full   \n",
       "\n",
       "                      amount            representative district  \\\n",
       "0           $1,001 - $15,000        Hon. Virginia Foxx     NC05   \n",
       "1           $1,001 - $15,000        Hon. Virginia Foxx     NC05   \n",
       "2          $15,001 - $50,000        Hon. Virginia Foxx     NC05   \n",
       "3          $15,001 - $50,000        Hon. Virginia Foxx     NC05   \n",
       "4           $1,001 - $15,000    Hon. Alan S. Lowenthal     CA47   \n",
       "...                      ...                       ...      ...   \n",
       "15694       $1,001 - $15,000        Hon. Ed Perlmutter     CO07   \n",
       "15695       $1,001 - $15,000        Hon. Ed Perlmutter     CO07   \n",
       "15696    $100,001 - $250,000  Hon. Nicholas Van Taylor     TX03   \n",
       "15697  $500,001 - $1,000,000  Hon. Nicholas Van Taylor     TX03   \n",
       "15698    $250,001 - $500,000  Hon. Nicholas Van Taylor     TX03   \n",
       "\n",
       "                                                ptr_link  \\\n",
       "0      https://disclosures-clerk.house.gov/public_dis...   \n",
       "1      https://disclosures-clerk.house.gov/public_dis...   \n",
       "2      https://disclosures-clerk.house.gov/public_dis...   \n",
       "3      https://disclosures-clerk.house.gov/public_dis...   \n",
       "4      https://disclosures-clerk.house.gov/public_dis...   \n",
       "...                                                  ...   \n",
       "15694  https://disclosures-clerk.house.gov/public_dis...   \n",
       "15695  https://disclosures-clerk.house.gov/public_dis...   \n",
       "15696  https://disclosures-clerk.house.gov/public_dis...   \n",
       "15697  https://disclosures-clerk.house.gov/public_dis...   \n",
       "15698  https://disclosures-clerk.house.gov/public_dis...   \n",
       "\n",
       "       cap_gains_over_200_usd region  \n",
       "0                       False  south  \n",
       "1                       False  south  \n",
       "2                       False  south  \n",
       "3                       False  south  \n",
       "4                       False   west  \n",
       "...                       ...    ...  \n",
       "15694                   False   west  \n",
       "15695                   False   west  \n",
       "15696                   False  south  \n",
       "15697                   False  south  \n",
       "15698                   False  south  \n",
       "\n",
       "[15699 rows x 13 columns]"
      ]
     },
     "execution_count": 5,
     "metadata": {},
     "output_type": "execute_result"
    }
   ],
   "source": [
    "transactions['region'] = transactions['district'].transform(lambda x: x[:2])\n",
    "\n",
    "midwest = ['MI', 'KS', 'ND', 'MO', 'IN', 'MN', 'SD', 'WI', 'OH', 'IA', 'NE', 'IL']\n",
    "south = ['TX', 'LA', 'GA', 'SC', 'WV', 'OK', 'MS', 'FL', 'NC', 'VA', 'AR', 'AL', 'TN', 'KY', 'GU']\n",
    "west = ['WA', 'NV', 'WY', 'CO', 'OR', 'ID', 'UT', 'NM', 'CA', 'MT', 'AZ', 'AK', 'HI']\n",
    "northeast = ['PA', 'DC', 'NJ', 'MA', 'NY', 'MD', 'CT', 'VT', 'ME', 'DE', 'RI', 'NH']\n",
    "\n",
    "transactions.loc[transactions['region'].isin(midwest), 'region'] = 'midwest'\n",
    "transactions.loc[transactions['region'].isin(south), 'region'] = 'south'\n",
    "transactions.loc[transactions['region'].isin(west), 'region'] = 'west'\n",
    "transactions.loc[transactions['region'].isin(northeast), 'region'] = 'northeast'\n",
    "\n",
    "df = transactions\n",
    "df"
   ]
  },
  {
   "cell_type": "markdown",
   "id": "66a50291",
   "metadata": {},
   "source": [
    "#### Taking a look at the distribution of trades in each region."
   ]
  },
  {
   "cell_type": "code",
   "execution_count": 6,
   "id": "82763538",
   "metadata": {},
   "outputs": [
    {
     "data": {
      "text/plain": [
       "south        6187\n",
       "west         4822\n",
       "northeast    2885\n",
       "midwest      1805\n",
       "Name: region, dtype: int64"
      ]
     },
     "execution_count": 6,
     "metadata": {},
     "output_type": "execute_result"
    }
   ],
   "source": [
    "df['region'].value_counts()"
   ]
  },
  {
   "cell_type": "markdown",
   "id": "dd4f78e7",
   "metadata": {},
   "source": [
    "Since there is no major unbalance in the distribution of the regions across all trades, we won't have to worry too much about the bias of our model training it on this dataset."
   ]
  },
  {
   "cell_type": "markdown",
   "id": "3d499873",
   "metadata": {},
   "source": [
    "#### To filter out irrelevant variables, we will first drop these columns from our dataset to narrow down the number of prediction variables."
   ]
  },
  {
   "cell_type": "code",
   "execution_count": 7,
   "id": "bbd0de3d",
   "metadata": {},
   "outputs": [
    {
     "data": {
      "text/html": [
       "<div>\n",
       "<style scoped>\n",
       "    .dataframe tbody tr th:only-of-type {\n",
       "        vertical-align: middle;\n",
       "    }\n",
       "\n",
       "    .dataframe tbody tr th {\n",
       "        vertical-align: top;\n",
       "    }\n",
       "\n",
       "    .dataframe thead th {\n",
       "        text-align: right;\n",
       "    }\n",
       "</style>\n",
       "<table border=\"1\" class=\"dataframe\">\n",
       "  <thead>\n",
       "    <tr style=\"text-align: right;\">\n",
       "      <th></th>\n",
       "      <th>disclosure_year</th>\n",
       "      <th>owner</th>\n",
       "      <th>ticker</th>\n",
       "      <th>type</th>\n",
       "      <th>amount</th>\n",
       "      <th>cap_gains_over_200_usd</th>\n",
       "      <th>region</th>\n",
       "    </tr>\n",
       "  </thead>\n",
       "  <tbody>\n",
       "    <tr>\n",
       "      <th>0</th>\n",
       "      <td>2021</td>\n",
       "      <td>joint</td>\n",
       "      <td>BP</td>\n",
       "      <td>purchase</td>\n",
       "      <td>$1,001 - $15,000</td>\n",
       "      <td>False</td>\n",
       "      <td>south</td>\n",
       "    </tr>\n",
       "    <tr>\n",
       "      <th>1</th>\n",
       "      <td>2021</td>\n",
       "      <td>joint</td>\n",
       "      <td>XOM</td>\n",
       "      <td>purchase</td>\n",
       "      <td>$1,001 - $15,000</td>\n",
       "      <td>False</td>\n",
       "      <td>south</td>\n",
       "    </tr>\n",
       "    <tr>\n",
       "      <th>2</th>\n",
       "      <td>2021</td>\n",
       "      <td>joint</td>\n",
       "      <td>ILPT</td>\n",
       "      <td>purchase</td>\n",
       "      <td>$15,001 - $50,000</td>\n",
       "      <td>False</td>\n",
       "      <td>south</td>\n",
       "    </tr>\n",
       "    <tr>\n",
       "      <th>3</th>\n",
       "      <td>2021</td>\n",
       "      <td>joint</td>\n",
       "      <td>PM</td>\n",
       "      <td>purchase</td>\n",
       "      <td>$15,001 - $50,000</td>\n",
       "      <td>False</td>\n",
       "      <td>south</td>\n",
       "    </tr>\n",
       "    <tr>\n",
       "      <th>4</th>\n",
       "      <td>2021</td>\n",
       "      <td>self</td>\n",
       "      <td>BLK</td>\n",
       "      <td>sale_partial</td>\n",
       "      <td>$1,001 - $15,000</td>\n",
       "      <td>False</td>\n",
       "      <td>west</td>\n",
       "    </tr>\n",
       "  </tbody>\n",
       "</table>\n",
       "</div>"
      ],
      "text/plain": [
       "   disclosure_year  owner ticker          type             amount  \\\n",
       "0             2021  joint     BP      purchase   $1,001 - $15,000   \n",
       "1             2021  joint    XOM      purchase   $1,001 - $15,000   \n",
       "2             2021  joint   ILPT      purchase  $15,001 - $50,000   \n",
       "3             2021  joint     PM      purchase  $15,001 - $50,000   \n",
       "4             2021   self    BLK  sale_partial   $1,001 - $15,000   \n",
       "\n",
       "   cap_gains_over_200_usd region  \n",
       "0                   False  south  \n",
       "1                   False  south  \n",
       "2                   False  south  \n",
       "3                   False  south  \n",
       "4                   False   west  "
      ]
     },
     "execution_count": 7,
     "metadata": {},
     "output_type": "execute_result"
    }
   ],
   "source": [
    "df = df.drop(columns=['disclosure_date', 'transaction_date', 'representative', 'district', 'ptr_link', 'asset_description'])\n",
    "df.head()"
   ]
  },
  {
   "cell_type": "markdown",
   "id": "051e4314",
   "metadata": {},
   "source": [
    "All columns except for `'disclosure_year'` contain categorical and ordinal values; therefore, we need to transform them into numerical before we can run prediction models on them."
   ]
  },
  {
   "cell_type": "code",
   "execution_count": 9,
   "id": "21f515ff",
   "metadata": {},
   "outputs": [
    {
     "data": {
      "text/plain": [
       "(0, 6032, 0, 0, 0, 0)"
      ]
     },
     "execution_count": 9,
     "metadata": {},
     "output_type": "execute_result"
    }
   ],
   "source": [
    "(df['disclosure_year'].isna().sum(),\n",
    "df['owner'].isna().sum(),\n",
    "df['ticker'].isna().sum(), \n",
    "df['amount'].isna().sum(),\n",
    "df['cap_gains_over_200_usd'].isna().sum(),\n",
    "df['region'].isna().sum())"
   ]
  },
  {
   "cell_type": "markdown",
   "id": "d51c3874",
   "metadata": {},
   "source": [
    "Since there are a large number of missing values in the `'owner'` column and `'ticker'` column, we chose to put them into a separate category of 'missing' in order to maintain the size of the dataset and the relative distribution of trades across the 4 regions."
   ]
  },
  {
   "cell_type": "code",
   "execution_count": 10,
   "id": "41b36a2c",
   "metadata": {},
   "outputs": [
    {
     "data": {
      "text/html": [
       "<div>\n",
       "<style scoped>\n",
       "    .dataframe tbody tr th:only-of-type {\n",
       "        vertical-align: middle;\n",
       "    }\n",
       "\n",
       "    .dataframe tbody tr th {\n",
       "        vertical-align: top;\n",
       "    }\n",
       "\n",
       "    .dataframe thead th {\n",
       "        text-align: right;\n",
       "    }\n",
       "</style>\n",
       "<table border=\"1\" class=\"dataframe\">\n",
       "  <thead>\n",
       "    <tr style=\"text-align: right;\">\n",
       "      <th></th>\n",
       "      <th>disclosure_year</th>\n",
       "      <th>owner</th>\n",
       "      <th>ticker</th>\n",
       "      <th>type</th>\n",
       "      <th>amount</th>\n",
       "      <th>cap_gains_over_200_usd</th>\n",
       "      <th>region</th>\n",
       "    </tr>\n",
       "  </thead>\n",
       "  <tbody>\n",
       "    <tr>\n",
       "      <th>0</th>\n",
       "      <td>2021</td>\n",
       "      <td>joint</td>\n",
       "      <td>BP</td>\n",
       "      <td>purchase</td>\n",
       "      <td>$1,001 - $15,000</td>\n",
       "      <td>False</td>\n",
       "      <td>south</td>\n",
       "    </tr>\n",
       "    <tr>\n",
       "      <th>1</th>\n",
       "      <td>2021</td>\n",
       "      <td>joint</td>\n",
       "      <td>XOM</td>\n",
       "      <td>purchase</td>\n",
       "      <td>$1,001 - $15,000</td>\n",
       "      <td>False</td>\n",
       "      <td>south</td>\n",
       "    </tr>\n",
       "    <tr>\n",
       "      <th>2</th>\n",
       "      <td>2021</td>\n",
       "      <td>joint</td>\n",
       "      <td>ILPT</td>\n",
       "      <td>purchase</td>\n",
       "      <td>$15,001 - $50,000</td>\n",
       "      <td>False</td>\n",
       "      <td>south</td>\n",
       "    </tr>\n",
       "    <tr>\n",
       "      <th>3</th>\n",
       "      <td>2021</td>\n",
       "      <td>joint</td>\n",
       "      <td>PM</td>\n",
       "      <td>purchase</td>\n",
       "      <td>$15,001 - $50,000</td>\n",
       "      <td>False</td>\n",
       "      <td>south</td>\n",
       "    </tr>\n",
       "    <tr>\n",
       "      <th>4</th>\n",
       "      <td>2021</td>\n",
       "      <td>self</td>\n",
       "      <td>BLK</td>\n",
       "      <td>sale_partial</td>\n",
       "      <td>$1,001 - $15,000</td>\n",
       "      <td>False</td>\n",
       "      <td>west</td>\n",
       "    </tr>\n",
       "  </tbody>\n",
       "</table>\n",
       "</div>"
      ],
      "text/plain": [
       "   disclosure_year  owner ticker          type             amount  \\\n",
       "0             2021  joint     BP      purchase   $1,001 - $15,000   \n",
       "1             2021  joint    XOM      purchase   $1,001 - $15,000   \n",
       "2             2021  joint   ILPT      purchase  $15,001 - $50,000   \n",
       "3             2021  joint     PM      purchase  $15,001 - $50,000   \n",
       "4             2021   self    BLK  sale_partial   $1,001 - $15,000   \n",
       "\n",
       "   cap_gains_over_200_usd region  \n",
       "0                   False  south  \n",
       "1                   False  south  \n",
       "2                   False  south  \n",
       "3                   False  south  \n",
       "4                   False   west  "
      ]
     },
     "execution_count": 10,
     "metadata": {},
     "output_type": "execute_result"
    }
   ],
   "source": [
    "df.loc[(df['owner'] == '--') | (df['owner'].isna()), 'owner'] = 'missing'\n",
    "df.head()"
   ]
  },
  {
   "cell_type": "code",
   "execution_count": 11,
   "id": "0b9346b7",
   "metadata": {},
   "outputs": [
    {
     "data": {
      "text/html": [
       "<div>\n",
       "<style scoped>\n",
       "    .dataframe tbody tr th:only-of-type {\n",
       "        vertical-align: middle;\n",
       "    }\n",
       "\n",
       "    .dataframe tbody tr th {\n",
       "        vertical-align: top;\n",
       "    }\n",
       "\n",
       "    .dataframe thead th {\n",
       "        text-align: right;\n",
       "    }\n",
       "</style>\n",
       "<table border=\"1\" class=\"dataframe\">\n",
       "  <thead>\n",
       "    <tr style=\"text-align: right;\">\n",
       "      <th></th>\n",
       "      <th>disclosure_year</th>\n",
       "      <th>owner</th>\n",
       "      <th>ticker</th>\n",
       "      <th>type</th>\n",
       "      <th>amount</th>\n",
       "      <th>cap_gains_over_200_usd</th>\n",
       "      <th>region</th>\n",
       "    </tr>\n",
       "  </thead>\n",
       "  <tbody>\n",
       "    <tr>\n",
       "      <th>0</th>\n",
       "      <td>2021</td>\n",
       "      <td>joint</td>\n",
       "      <td>BP</td>\n",
       "      <td>purchase</td>\n",
       "      <td>$1,001 - $15,000</td>\n",
       "      <td>False</td>\n",
       "      <td>south</td>\n",
       "    </tr>\n",
       "    <tr>\n",
       "      <th>1</th>\n",
       "      <td>2021</td>\n",
       "      <td>joint</td>\n",
       "      <td>XOM</td>\n",
       "      <td>purchase</td>\n",
       "      <td>$1,001 - $15,000</td>\n",
       "      <td>False</td>\n",
       "      <td>south</td>\n",
       "    </tr>\n",
       "    <tr>\n",
       "      <th>2</th>\n",
       "      <td>2021</td>\n",
       "      <td>joint</td>\n",
       "      <td>ILPT</td>\n",
       "      <td>purchase</td>\n",
       "      <td>$15,001 - $50,000</td>\n",
       "      <td>False</td>\n",
       "      <td>south</td>\n",
       "    </tr>\n",
       "    <tr>\n",
       "      <th>3</th>\n",
       "      <td>2021</td>\n",
       "      <td>joint</td>\n",
       "      <td>PM</td>\n",
       "      <td>purchase</td>\n",
       "      <td>$15,001 - $50,000</td>\n",
       "      <td>False</td>\n",
       "      <td>south</td>\n",
       "    </tr>\n",
       "    <tr>\n",
       "      <th>4</th>\n",
       "      <td>2021</td>\n",
       "      <td>self</td>\n",
       "      <td>BLK</td>\n",
       "      <td>sale_partial</td>\n",
       "      <td>$1,001 - $15,000</td>\n",
       "      <td>False</td>\n",
       "      <td>west</td>\n",
       "    </tr>\n",
       "  </tbody>\n",
       "</table>\n",
       "</div>"
      ],
      "text/plain": [
       "   disclosure_year  owner ticker          type             amount  \\\n",
       "0             2021  joint     BP      purchase   $1,001 - $15,000   \n",
       "1             2021  joint    XOM      purchase   $1,001 - $15,000   \n",
       "2             2021  joint   ILPT      purchase  $15,001 - $50,000   \n",
       "3             2021  joint     PM      purchase  $15,001 - $50,000   \n",
       "4             2021   self    BLK  sale_partial   $1,001 - $15,000   \n",
       "\n",
       "   cap_gains_over_200_usd region  \n",
       "0                   False  south  \n",
       "1                   False  south  \n",
       "2                   False  south  \n",
       "3                   False  south  \n",
       "4                   False   west  "
      ]
     },
     "execution_count": 11,
     "metadata": {},
     "output_type": "execute_result"
    }
   ],
   "source": [
    "df.loc[(df['ticker'] == '--') | (df['ticker'].isna()), 'owner'] == 'missing'\n",
    "df.head()"
   ]
  },
  {
   "cell_type": "code",
   "execution_count": 12,
   "id": "46b3e996",
   "metadata": {},
   "outputs": [
    {
     "data": {
      "text/plain": [
       "(15699, 7)"
      ]
     },
     "execution_count": 12,
     "metadata": {},
     "output_type": "execute_result"
    }
   ],
   "source": [
    "df.shape"
   ]
  },
  {
   "cell_type": "markdown",
   "id": "49d07217",
   "metadata": {},
   "source": [
    "#### Now we can look at the type and distribution of values within each column to decide the transformations to apply to quantify them."
   ]
  },
  {
   "cell_type": "code",
   "execution_count": 13,
   "id": "35f4438e",
   "metadata": {},
   "outputs": [
    {
     "data": {
      "text/plain": [
       "missing      7347\n",
       "joint        4939\n",
       "self         3013\n",
       "dependent     400\n",
       "Name: owner, dtype: int64"
      ]
     },
     "execution_count": 13,
     "metadata": {},
     "output_type": "execute_result"
    }
   ],
   "source": [
    "df['owner'].value_counts()"
   ]
  },
  {
   "cell_type": "markdown",
   "id": "4aa30137",
   "metadata": {},
   "source": [
    "For the `'owner'` column, we will simply use **one-hot encoding** to transform the data into numerical given that there are only 4 categories."
   ]
  },
  {
   "cell_type": "code",
   "execution_count": 14,
   "id": "587dfad6",
   "metadata": {},
   "outputs": [
    {
     "data": {
      "text/plain": [
       "--       1296\n",
       "MSFT      265\n",
       "AAPL      187\n",
       "NTAP      141\n",
       "TDDXX     122\n",
       "         ... \n",
       "PEGI        1\n",
       "IAC         1\n",
       "RF$A        1\n",
       "NUGL        1\n",
       "FCGAX       1\n",
       "Name: ticker, Length: 2219, dtype: int64"
      ]
     },
     "execution_count": 14,
     "metadata": {},
     "output_type": "execute_result"
    }
   ],
   "source": [
    "df['ticker'].value_counts()"
   ]
  },
  {
   "cell_type": "markdown",
   "id": "77bf5c32",
   "metadata": {},
   "source": [
    "For the `'ticker'` column, there are **1439** total unique tickers traded within this dataset, which is way too many for one-hot encoding. Therefore we will drop this column in the building of our baseline model and will further explore more effective transformations in the later section when we build our final model."
   ]
  },
  {
   "cell_type": "markdown",
   "id": "fb430820",
   "metadata": {},
   "source": [
    "And for the `'amount'` column, due to the ordinal nature of the values, we will use **ordinal encoding** to transform its values."
   ]
  },
  {
   "cell_type": "code",
   "execution_count": 15,
   "id": "3d549d8d",
   "metadata": {},
   "outputs": [
    {
     "data": {
      "text/plain": [
       "$1,001 - $15,000            11006\n",
       "$15,001 - $50,000            2539\n",
       "$50,001 - $100,000            788\n",
       "$100,001 - $250,000           594\n",
       "$250,001 - $500,000           268\n",
       "$1,001 -                      243\n",
       "$500,001 - $1,000,000         162\n",
       "$1,000,001 - $5,000,000        51\n",
       "$1,000,000 +                   30\n",
       "$5,000,001 - $25,000,000        9\n",
       "$1,000 - $15,000                4\n",
       "$15,000 - $50,000               3\n",
       "$50,000,000 +                   1\n",
       "$1,000,000 - $5,000,000         1\n",
       "Name: amount, dtype: int64"
      ]
     },
     "execution_count": 15,
     "metadata": {},
     "output_type": "execute_result"
    }
   ],
   "source": [
    "df['amount'].value_counts()"
   ]
  },
  {
   "cell_type": "markdown",
   "id": "9f5e9a21",
   "metadata": {},
   "source": [
    "Notice that some different values in `'amount'` column represent the same thing, so we group them to avoid redundancy. In order to specify the current order when using ordinal encoding transformation, we represent each range with its minimum number."
   ]
  },
  {
   "cell_type": "code",
   "execution_count": 16,
   "id": "9b78b6af",
   "metadata": {},
   "outputs": [],
   "source": [
    "df['amount'] = df['amount'].apply(lambda x: x[(x.index('$')+1):(x.index(' '))])\n",
    "df['amount'] = df['amount'].replace({'1,000':'1,001','15,000':'15,001','1,000,000':'1,000,001'})\n",
    "amount_order = ['1,001','15,001','50,001','100,001','250,001','500,001','1,000,001','5,000,001','50,000,000']"
   ]
  },
  {
   "cell_type": "code",
   "execution_count": 17,
   "id": "bab2532b",
   "metadata": {},
   "outputs": [
    {
     "data": {
      "text/plain": [
       "False    14734\n",
       "True       965\n",
       "Name: cap_gains_over_200_usd, dtype: int64"
      ]
     },
     "execution_count": 17,
     "metadata": {},
     "output_type": "execute_result"
    }
   ],
   "source": [
    "df['cap_gains_over_200_usd'].value_counts()"
   ]
  },
  {
   "cell_type": "markdown",
   "id": "e37e0a87",
   "metadata": {},
   "source": [
    "Lastly, we will use **one-hot encoding** to transform the boolean values in column `'cap_gains_over_200_usd'`."
   ]
  },
  {
   "cell_type": "markdown",
   "id": "f1564765",
   "metadata": {},
   "source": [
    "#### Baseline Model"
   ]
  },
  {
   "cell_type": "code",
   "execution_count": 18,
   "id": "947167e1",
   "metadata": {},
   "outputs": [],
   "source": [
    "from sklearn.pipeline import Pipeline\n",
    "from sklearn.compose import ColumnTransformer\n",
    "from sklearn.model_selection import train_test_split\n",
    "from sklearn.preprocessing import OneHotEncoder\n",
    "from sklearn.preprocessing import OrdinalEncoder\n",
    "from sklearn.preprocessing import FunctionTransformer\n",
    "from sklearn.feature_extraction.text import CountVectorizer\n",
    "from sklearn.ensemble import RandomForestClassifier"
   ]
  },
  {
   "cell_type": "markdown",
   "id": "2db75da5",
   "metadata": {},
   "source": [
    "Here we divide the dataset into a **75%** train subset and **25%** test subset."
   ]
  },
  {
   "cell_type": "code",
   "execution_count": 19,
   "id": "654ea094",
   "metadata": {},
   "outputs": [],
   "source": [
    "X_train, X_test, y_train, y_test = train_test_split(df.drop(columns=['region','ticker']), \n",
    "                                                    df['region'], random_state=1)"
   ]
  },
  {
   "cell_type": "markdown",
   "id": "2b3811f2",
   "metadata": {},
   "source": [
    "Then, we apply different transformations to the different columns using **ColumnTransformer** and build a **random forest classifier**."
   ]
  },
  {
   "cell_type": "code",
   "execution_count": 20,
   "id": "32630cb8",
   "metadata": {},
   "outputs": [],
   "source": [
    "ct_base = ColumnTransformer(transformers = [\n",
    "                           ('one-hot', OneHotEncoder(handle_unknown='ignore'), ['owner', 'cap_gains_over_200_usd', 'type']),\n",
    "                           ('year_oe', OrdinalEncoder(), ['disclosure_year']),\n",
    "                           ('amount_oe', OrdinalEncoder(categories=[amount_order]), ['amount'])],\n",
    "                           remainder='passthrough')"
   ]
  },
  {
   "cell_type": "code",
   "execution_count": 21,
   "id": "02909313",
   "metadata": {},
   "outputs": [
    {
     "data": {
      "text/plain": [
       "Pipeline(steps=[('Preprocessor',\n",
       "                 ColumnTransformer(remainder='passthrough',\n",
       "                                   transformers=[('one-hot',\n",
       "                                                  OneHotEncoder(handle_unknown='ignore'),\n",
       "                                                  ['owner',\n",
       "                                                   'cap_gains_over_200_usd',\n",
       "                                                   'type']),\n",
       "                                                 ('year_oe', OrdinalEncoder(),\n",
       "                                                  ['disclosure_year']),\n",
       "                                                 ('amount_oe',\n",
       "                                                  OrdinalEncoder(categories=[['1,001',\n",
       "                                                                              '15,001',\n",
       "                                                                              '50,001',\n",
       "                                                                              '100,001',\n",
       "                                                                              '250,001',\n",
       "                                                                              '500,001',\n",
       "                                                                              '1,000,001',\n",
       "                                                                              '5,000,001',\n",
       "                                                                              '50,000,000']]),\n",
       "                                                  ['amount'])])),\n",
       "                ('clf', RandomForestClassifier())])"
      ]
     },
     "execution_count": 21,
     "metadata": {},
     "output_type": "execute_result"
    }
   ],
   "source": [
    "pl_base = Pipeline([('Preprocessor', ct_base), ('clf', RandomForestClassifier())])\n",
    "pl_base.fit(X_train, y_train)"
   ]
  },
  {
   "cell_type": "markdown",
   "id": "c989f42f",
   "metadata": {},
   "source": [
    "Now take a look at the **f1-score** of training set and test set."
   ]
  },
  {
   "cell_type": "code",
   "execution_count": 23,
   "id": "d7d7c1b5",
   "metadata": {},
   "outputs": [
    {
     "name": "stdout",
     "output_type": "stream",
     "text": [
      "baseline model training score:0.5441651095634449\n",
      "baseline model test score:0.5352866242038217\n"
     ]
    }
   ],
   "source": [
    "base_train = pl_base.score(X_train, y_train)\n",
    "base_test = pl_base.score(X_test, y_test)\n",
    "print(f'baseline model training score:{base_train}\\nbaseline model test score:{base_test}')"
   ]
  },
  {
   "cell_type": "markdown",
   "id": "d3a8293f",
   "metadata": {},
   "source": [
    "#### Both scores are very low, which indicates that we would need to take a more precise and elaborate approach."
   ]
  },
  {
   "cell_type": "markdown",
   "id": "9b3b8f00",
   "metadata": {},
   "source": [
    "## Final Model"
   ]
  },
  {
   "cell_type": "markdown",
   "id": "e88171de",
   "metadata": {},
   "source": [
    "#### For our final model, we will engineer 2 features as well as perform a gridsearch to improve the accuracy."
   ]
  },
  {
   "cell_type": "code",
   "execution_count": 2,
   "id": "3c135d34",
   "metadata": {},
   "outputs": [],
   "source": [
    "from sklearn.pipeline import Pipeline\n",
    "from sklearn.compose import ColumnTransformer\n",
    "from sklearn.model_selection import train_test_split\n",
    "from sklearn.preprocessing import OneHotEncoder\n",
    "from sklearn.preprocessing import OrdinalEncoder\n",
    "from sklearn.preprocessing import FunctionTransformer\n",
    "from sklearn.feature_extraction.text import CountVectorizer\n",
    "from sklearn.ensemble import RandomForestClassifier\n",
    "from sklearn.model_selection import GridSearchCV\n",
    "from sklearn import metrics"
   ]
  },
  {
   "cell_type": "code",
   "execution_count": 25,
   "id": "5d1637da",
   "metadata": {},
   "outputs": [
    {
     "data": {
      "text/html": [
       "<div>\n",
       "<style scoped>\n",
       "    .dataframe tbody tr th:only-of-type {\n",
       "        vertical-align: middle;\n",
       "    }\n",
       "\n",
       "    .dataframe tbody tr th {\n",
       "        vertical-align: top;\n",
       "    }\n",
       "\n",
       "    .dataframe thead th {\n",
       "        text-align: right;\n",
       "    }\n",
       "</style>\n",
       "<table border=\"1\" class=\"dataframe\">\n",
       "  <thead>\n",
       "    <tr style=\"text-align: right;\">\n",
       "      <th></th>\n",
       "      <th>disclosure_year</th>\n",
       "      <th>owner</th>\n",
       "      <th>ticker</th>\n",
       "      <th>type</th>\n",
       "      <th>amount</th>\n",
       "      <th>cap_gains_over_200_usd</th>\n",
       "      <th>region</th>\n",
       "    </tr>\n",
       "  </thead>\n",
       "  <tbody>\n",
       "    <tr>\n",
       "      <th>0</th>\n",
       "      <td>2021</td>\n",
       "      <td>joint</td>\n",
       "      <td>BP</td>\n",
       "      <td>purchase</td>\n",
       "      <td>1,001</td>\n",
       "      <td>False</td>\n",
       "      <td>south</td>\n",
       "    </tr>\n",
       "    <tr>\n",
       "      <th>1</th>\n",
       "      <td>2021</td>\n",
       "      <td>joint</td>\n",
       "      <td>XOM</td>\n",
       "      <td>purchase</td>\n",
       "      <td>1,001</td>\n",
       "      <td>False</td>\n",
       "      <td>south</td>\n",
       "    </tr>\n",
       "    <tr>\n",
       "      <th>2</th>\n",
       "      <td>2021</td>\n",
       "      <td>joint</td>\n",
       "      <td>ILPT</td>\n",
       "      <td>purchase</td>\n",
       "      <td>15,001</td>\n",
       "      <td>False</td>\n",
       "      <td>south</td>\n",
       "    </tr>\n",
       "    <tr>\n",
       "      <th>3</th>\n",
       "      <td>2021</td>\n",
       "      <td>joint</td>\n",
       "      <td>PM</td>\n",
       "      <td>purchase</td>\n",
       "      <td>15,001</td>\n",
       "      <td>False</td>\n",
       "      <td>south</td>\n",
       "    </tr>\n",
       "    <tr>\n",
       "      <th>4</th>\n",
       "      <td>2021</td>\n",
       "      <td>self</td>\n",
       "      <td>BLK</td>\n",
       "      <td>sale_partial</td>\n",
       "      <td>1,001</td>\n",
       "      <td>False</td>\n",
       "      <td>west</td>\n",
       "    </tr>\n",
       "  </tbody>\n",
       "</table>\n",
       "</div>"
      ],
      "text/plain": [
       "   disclosure_year  owner ticker          type  amount  \\\n",
       "0             2021  joint     BP      purchase   1,001   \n",
       "1             2021  joint    XOM      purchase   1,001   \n",
       "2             2021  joint   ILPT      purchase  15,001   \n",
       "3             2021  joint     PM      purchase  15,001   \n",
       "4             2021   self    BLK  sale_partial   1,001   \n",
       "\n",
       "   cap_gains_over_200_usd region  \n",
       "0                   False  south  \n",
       "1                   False  south  \n",
       "2                   False  south  \n",
       "3                   False  south  \n",
       "4                   False   west  "
      ]
     },
     "execution_count": 25,
     "metadata": {},
     "output_type": "execute_result"
    }
   ],
   "source": [
    "df.head()"
   ]
  },
  {
   "cell_type": "markdown",
   "id": "21083c48",
   "metadata": {},
   "source": [
    "#### To effectively transform the `'ticker'` column into numerical values, we need to come up with a metric for grouping similar tickers together. \n",
    "Here, we will use the number of times each ticker is traded (trading volumn) as our measure to categorize the tickers into 3 groups:\n",
    "- **low**: tickers that have been traded only once & the stocks with missing 'ticker' names (we denote it with 1)\n",
    "- **medium**: tickers that have been traded between 2 and 10 times (we denote it with 2)\n",
    "- **high**: tickers that have been traded more than 10 times (we denote it with 3)\n",
    "\n",
    "#### We will need to write a custom transformer that does the grouping when we train and test our model on actual data."
   ]
  },
  {
   "cell_type": "code",
   "execution_count": 1,
   "id": "4c8f14e2",
   "metadata": {},
   "outputs": [],
   "source": [
    "from sklearn.base import BaseEstimator, TransformerMixin\n",
    "\n",
    "class TransformTicker(BaseEstimator, TransformerMixin):\n",
    "    \n",
    "    def __init__(self):\n",
    "        pass\n",
    "    \n",
    "    def fit(self, X, y=None):\n",
    "        return self\n",
    "    \n",
    "    def transform(self, X, y=None):\n",
    "        \n",
    "        df = pd.DataFrame(X)\n",
    "        df['ticker'] = df['ticker'].apply(lambda x: 3 if df[df['ticker'] == x].shape[0] > 10 \n",
    "                                          else 2 if df[df['ticker'] == x].shape[0] > 1 else 1)\n",
    "        \n",
    "        return df\n"
   ]
  },
  {
   "cell_type": "markdown",
   "id": "8fcaeb03",
   "metadata": {},
   "source": [
    "In column `'asset_description'`, each entry contains a short description of the type of business the stock is in. Therefore, a **countvectorizer** that does a bag-of-words transformation would be the most appropriate in this case."
   ]
  },
  {
   "cell_type": "code",
   "execution_count": 28,
   "id": "0fc44d2a",
   "metadata": {},
   "outputs": [
    {
     "data": {
      "text/plain": [
       "['BP plc',\n",
       " 'Exxon Mobil Corporation',\n",
       " 'Industrial Logistics Properties Trust - Common Shares of Beneficial Interest',\n",
       " 'Phillip Morris International Inc',\n",
       " 'BlackRock Inc',\n",
       " 'American Express Company',\n",
       " 'Katapult Holdings Inc - Warrant',\n",
       " 'Advanced Micro Devices Inc',\n",
       " 'Apple Inc',\n",
       " 'Microsoft Corporation',\n",
       " 'Morgan Stanley',\n",
       " 'NextEra Energy Inc',\n",
       " 'Sylvamo Coproration',\n",
       " 'The Carlyle Group Inc',\n",
       " 'Altria Group Inc',\n",
       " 'Duke Energy Corporation 5.125% Junior Subordinated Debentures due 2073',\n",
       " 'GlaxoSmithKline PLC',\n",
       " 'One Liberty Properties Inc',\n",
       " 'PPL Corporation',\n",
       " 'Sculptor Capital Management Inc Class A',\n",
       " 'Sculptor Capital Management Inc Class A',\n",
       " 'Via Renewables Inc - 8.75% Series A Fixed-to-Floating Rate Cumulative Redeemable Perpetual Preferred Stock',\n",
       " 'Coinbase Global Inc',\n",
       " 'Harris County TX 5%',\n",
       " 'Main Mun Bd BK 5% 09/01/27',\n",
       " 'New York St 5% 06/15/27',\n",
       " 'Utility Debt NY 5% 12/15/29',\n",
       " 'ACADIA Pharmaceuticals Inc',\n",
       " 'AGNC Investment Corp',\n",
       " 'Allakos Inc']"
      ]
     },
     "execution_count": 28,
     "metadata": {},
     "output_type": "execute_result"
    }
   ],
   "source": [
    "lst = []\n",
    "for i in transactions['asset_description']:\n",
    "    lst.append(i)\n",
    "lst[:30]"
   ]
  },
  {
   "cell_type": "code",
   "execution_count": 29,
   "id": "c2c0da43",
   "metadata": {},
   "outputs": [],
   "source": [
    "# Add the 'asset_description' column back to df\n",
    "df['asset'] = transactions['asset_description']\n",
    "\n",
    "# Adjust the asset_description column for CountVectorizer to work\n",
    "df['asset'] = df['asset'].fillna(' ')"
   ]
  },
  {
   "cell_type": "code",
   "execution_count": 30,
   "id": "b1f190ba",
   "metadata": {},
   "outputs": [],
   "source": [
    "X_train_final, X_test_final, y_train_final, y_test_final = train_test_split(df.drop(columns=['region']), \n",
    "                                                                            df['region'], random_state=1)"
   ]
  },
  {
   "cell_type": "code",
   "execution_count": 31,
   "id": "750196c8",
   "metadata": {},
   "outputs": [],
   "source": [
    "ct_final = ColumnTransformer(transformers = [\n",
    "                       ('one-hot', OneHotEncoder(handle_unknown='ignore'), ['owner', 'cap_gains_over_200_usd', 'type']),\n",
    "                       ('year_oe', OrdinalEncoder(handle_unknown='use_encoded_value', unknown_value=np.nan), ['disclosure_year']),\n",
    "                       ('amount_oe', OrdinalEncoder(categories=[amount_order],handle_unknown='use_encoded_value', unknown_value=np.nan), ['amount']),\n",
    "                       ('ticker', TransformTicker(), ['ticker']),\n",
    "                       ('cv', CountVectorizer(), 'asset')],\n",
    "                       remainder='passthrough')"
   ]
  },
  {
   "cell_type": "code",
   "execution_count": 32,
   "id": "dadb9b84",
   "metadata": {},
   "outputs": [
    {
     "data": {
      "text/plain": [
       "Pipeline(steps=[('Preprocessor',\n",
       "                 ColumnTransformer(remainder='passthrough',\n",
       "                                   transformers=[('one-hot',\n",
       "                                                  OneHotEncoder(handle_unknown='ignore'),\n",
       "                                                  ['owner',\n",
       "                                                   'cap_gains_over_200_usd',\n",
       "                                                   'type']),\n",
       "                                                 ('year_oe',\n",
       "                                                  OrdinalEncoder(handle_unknown='use_encoded_value',\n",
       "                                                                 unknown_value=nan),\n",
       "                                                  ['disclosure_year']),\n",
       "                                                 ('amount_oe',\n",
       "                                                  OrdinalEncoder(categories=[['1,001',\n",
       "                                                                              '15,001',\n",
       "                                                                              '50,001',\n",
       "                                                                              '100,001',\n",
       "                                                                              '250,001',\n",
       "                                                                              '500,001',\n",
       "                                                                              '1,000,001',\n",
       "                                                                              '5,000,001',\n",
       "                                                                              '50,000,000']],\n",
       "                                                                 handle_unknown='use_encoded_value',\n",
       "                                                                 unknown_value=nan),\n",
       "                                                  ['amount']),\n",
       "                                                 ('ticker', TransformTicker(),\n",
       "                                                  ['ticker']),\n",
       "                                                 ('cv', CountVectorizer(),\n",
       "                                                  'asset')])),\n",
       "                ('clf', RandomForestClassifier())])"
      ]
     },
     "execution_count": 32,
     "metadata": {},
     "output_type": "execute_result"
    }
   ],
   "source": [
    "pl_new = Pipeline([('Preprocessor', ct_final), ('clf', RandomForestClassifier())])\n",
    "pl_new.fit(X_train_final, y_train_final)"
   ]
  },
  {
   "cell_type": "code",
   "execution_count": 33,
   "id": "d8624a02",
   "metadata": {},
   "outputs": [
    {
     "data": {
      "text/plain": [
       "0.7230573248407643"
      ]
     },
     "execution_count": 33,
     "metadata": {},
     "output_type": "execute_result"
    }
   ],
   "source": [
    "pl_new.score(X_test_final, y_test_final)"
   ]
  },
  {
   "cell_type": "markdown",
   "id": "4e5fb34b",
   "metadata": {},
   "source": [
    "### Grid Search for Hyperparameter Tuning"
   ]
  },
  {
   "cell_type": "code",
   "execution_count": 40,
   "id": "8736d7ab",
   "metadata": {},
   "outputs": [],
   "source": [
    "hyperparameters = {'clf__n_estimators': [50, 100, 300, 500, 1000],\n",
    "                   'clf__max_depth': [5, 15, 25, 50, 100]}\n",
    "\n",
    "searcher = GridSearchCV(pl_new, hyperparameters, cv=3)"
   ]
  },
  {
   "cell_type": "markdown",
   "id": "7fbcd384",
   "metadata": {},
   "source": [
    "To reduce the computational load of the grid search, we will cut the size of the dataset by half by random sampling half of the data to include in our search."
   ]
  },
  {
   "cell_type": "code",
   "execution_count": 41,
   "id": "e2c14611",
   "metadata": {},
   "outputs": [],
   "source": [
    "df_grid = df.sample(frac=0.5).reset_index(drop=True)"
   ]
  },
  {
   "cell_type": "code",
   "execution_count": 42,
   "id": "06dd3af4",
   "metadata": {},
   "outputs": [],
   "source": [
    "X_train_grid, X_test_grid, y_train_grid, y_test_grid = train_test_split(df_grid.drop(columns=['region']), \n",
    "                                                                            df_grid['region'], random_state=1)"
   ]
  },
  {
   "cell_type": "code",
   "execution_count": 43,
   "id": "c7800b54",
   "metadata": {},
   "outputs": [
    {
     "data": {
      "text/plain": [
       "GridSearchCV(cv=3,\n",
       "             estimator=Pipeline(steps=[('Preprocessor',\n",
       "                                        ColumnTransformer(remainder='passthrough',\n",
       "                                                          transformers=[('one-hot',\n",
       "                                                                         OneHotEncoder(handle_unknown='ignore'),\n",
       "                                                                         ['owner',\n",
       "                                                                          'cap_gains_over_200_usd',\n",
       "                                                                          'type']),\n",
       "                                                                        ('year_oe',\n",
       "                                                                         OrdinalEncoder(handle_unknown='use_encoded_value',\n",
       "                                                                                        unknown_value=nan),\n",
       "                                                                         ['disclosure_year']),\n",
       "                                                                        ('amount_oe',\n",
       "                                                                         OrdinalEncoder(categories=[...\n",
       "                                                                                                     '15,001',\n",
       "                                                                                                     '50,001',\n",
       "                                                                                                     '100,001',\n",
       "                                                                                                     '250,001',\n",
       "                                                                                                     '500,001',\n",
       "                                                                                                     '1,000,001',\n",
       "                                                                                                     '5,000,001',\n",
       "                                                                                                     '50,000,000']],\n",
       "                                                                                        handle_unknown='use_encoded_value',\n",
       "                                                                                        unknown_value=nan),\n",
       "                                                                         ['amount']),\n",
       "                                                                        ('ticker',\n",
       "                                                                         TransformTicker(),\n",
       "                                                                         ['ticker']),\n",
       "                                                                        ('cv',\n",
       "                                                                         CountVectorizer(),\n",
       "                                                                         'asset')])),\n",
       "                                       ('clf', RandomForestClassifier())]),\n",
       "             param_grid={'clf__max_depth': [5, 15, 25, 50, 100],\n",
       "                         'clf__n_estimators': [50, 100, 300, 500, 1000]})"
      ]
     },
     "execution_count": 43,
     "metadata": {},
     "output_type": "execute_result"
    }
   ],
   "source": [
    "searcher.fit(X_train_grid, y_train_grid)"
   ]
  },
  {
   "cell_type": "code",
   "execution_count": 44,
   "id": "6a2137d2",
   "metadata": {},
   "outputs": [
    {
     "data": {
      "text/plain": [
       "{'clf__max_depth': 100, 'clf__n_estimators': 500}"
      ]
     },
     "execution_count": 44,
     "metadata": {},
     "output_type": "execute_result"
    }
   ],
   "source": [
    "searcher.best_params_"
   ]
  },
  {
   "cell_type": "code",
   "execution_count": 45,
   "id": "3280cac8",
   "metadata": {},
   "outputs": [
    {
     "data": {
      "text/plain": [
       "0.7882802547770701"
      ]
     },
     "execution_count": 45,
     "metadata": {},
     "output_type": "execute_result"
    }
   ],
   "source": [
    "searcher.score(X_test_final, y_test_final)"
   ]
  },
  {
   "cell_type": "markdown",
   "id": "efaaeb9f",
   "metadata": {},
   "source": [
    "After running grid search, we discovered the best hyperparameter values, which we will use to improve on our final model."
   ]
  },
  {
   "cell_type": "code",
   "execution_count": 46,
   "id": "96f4e7c2",
   "metadata": {},
   "outputs": [
    {
     "data": {
      "text/plain": [
       "Pipeline(steps=[('Preprocessor',\n",
       "                 ColumnTransformer(remainder='passthrough',\n",
       "                                   transformers=[('one-hot',\n",
       "                                                  OneHotEncoder(handle_unknown='ignore'),\n",
       "                                                  ['owner',\n",
       "                                                   'cap_gains_over_200_usd',\n",
       "                                                   'type']),\n",
       "                                                 ('year_oe',\n",
       "                                                  OrdinalEncoder(handle_unknown='use_encoded_value',\n",
       "                                                                 unknown_value=nan),\n",
       "                                                  ['disclosure_year']),\n",
       "                                                 ('amount_oe',\n",
       "                                                  OrdinalEncoder(categories=[['1,001',\n",
       "                                                                              '15,001',\n",
       "                                                                              '50,001',\n",
       "                                                                              '100,001',\n",
       "                                                                              '250,001',\n",
       "                                                                              '500,001',\n",
       "                                                                              '1,000,001',\n",
       "                                                                              '5,000,001',\n",
       "                                                                              '50,000,000']],\n",
       "                                                                 handle_unknown='use_encoded_value',\n",
       "                                                                 unknown_value=nan),\n",
       "                                                  ['amount']),\n",
       "                                                 ('ticker', TransformTicker(),\n",
       "                                                  ['ticker']),\n",
       "                                                 ('cv', CountVectorizer(),\n",
       "                                                  'asset')])),\n",
       "                ('clf',\n",
       "                 RandomForestClassifier(max_depth=100, n_estimators=500))])"
      ]
     },
     "execution_count": 46,
     "metadata": {},
     "output_type": "execute_result"
    }
   ],
   "source": [
    "pl_final = Pipeline([('Preprocessor', ct_final), ('clf', RandomForestClassifier(n_estimators=500, max_depth=100))])\n",
    "pl_final.fit(X_train_final, y_train_final)"
   ]
  },
  {
   "cell_type": "markdown",
   "id": "4dd0e498",
   "metadata": {},
   "source": [
    "Now take a look at the **f1-score** of the training set and test set again of our improved model."
   ]
  },
  {
   "cell_type": "code",
   "execution_count": 60,
   "id": "a10f492e",
   "metadata": {},
   "outputs": [
    {
     "name": "stdout",
     "output_type": "stream",
     "text": [
      "final model training score:0.9453032104637337\n",
      "final model test score:0.726624203821656\n"
     ]
    }
   ],
   "source": [
    "final_train = pl_final.score(X_train_final, y_train_final)\n",
    "final_test = pl_final.score(X_test_final, y_test_final)\n",
    "print(f'final model training score:{final_train}\\nfinal model test score:{final_test}')"
   ]
  },
  {
   "cell_type": "markdown",
   "id": "1d123f8f",
   "metadata": {},
   "source": [
    "#### Our final test accuracy score is 0.727"
   ]
  },
  {
   "cell_type": "markdown",
   "id": "f86e21bc",
   "metadata": {},
   "source": [
    "### Fairness Evaluation"
   ]
  },
  {
   "cell_type": "markdown",
   "id": "b9cd36e8",
   "metadata": {},
   "source": [
    "#### In this section, we will perform an accuracy parity test on the trading amount through a permutation test to measure if our model is fair to predict the geographic regions of trades taken in either high or low amount.\n",
    "\n",
    "We will classify trading amounts above $15,000 to be large amount and any trading amount below to be small amount.\n",
    "- **Null Hypothesis**: The model's accuracy is the same for large-amount and small-amount trades, and any differences are due to chance.\n",
    "- **Alternative Hypothesis**: The classifier's accuracy for large-amount trades is not the same as the accuracy for small-amount trades.\n",
    "- Test statistic: Difference in accuracy (large - small).\n",
    "- Significance level: 0.05."
   ]
  },
  {
   "cell_type": "code",
   "execution_count": 48,
   "id": "35e02057",
   "metadata": {},
   "outputs": [
    {
     "data": {
      "text/plain": [
       "1,001         11253\n",
       "15,001         2542\n",
       "50,001          788\n",
       "100,001         594\n",
       "250,001         268\n",
       "500,001         162\n",
       "1,000,001        82\n",
       "5,000,001         9\n",
       "50,000,000        1\n",
       "Name: amount, dtype: int64"
      ]
     },
     "execution_count": 48,
     "metadata": {},
     "output_type": "execute_result"
    }
   ],
   "source": [
    "df['amount'].value_counts()"
   ]
  },
  {
   "cell_type": "code",
   "execution_count": 50,
   "id": "dc7ab8db",
   "metadata": {},
   "outputs": [
    {
     "data": {
      "text/html": [
       "<div>\n",
       "<style scoped>\n",
       "    .dataframe tbody tr th:only-of-type {\n",
       "        vertical-align: middle;\n",
       "    }\n",
       "\n",
       "    .dataframe tbody tr th {\n",
       "        vertical-align: top;\n",
       "    }\n",
       "\n",
       "    .dataframe thead th {\n",
       "        text-align: right;\n",
       "    }\n",
       "</style>\n",
       "<table border=\"1\" class=\"dataframe\">\n",
       "  <thead>\n",
       "    <tr style=\"text-align: right;\">\n",
       "      <th></th>\n",
       "      <th>disclosure_year</th>\n",
       "      <th>owner</th>\n",
       "      <th>ticker</th>\n",
       "      <th>type</th>\n",
       "      <th>amount</th>\n",
       "      <th>cap_gains_over_200_usd</th>\n",
       "      <th>asset</th>\n",
       "      <th>region</th>\n",
       "      <th>preds</th>\n",
       "      <th>large_amount</th>\n",
       "    </tr>\n",
       "  </thead>\n",
       "  <tbody>\n",
       "    <tr>\n",
       "      <th>1966</th>\n",
       "      <td>2022</td>\n",
       "      <td>missing</td>\n",
       "      <td>AMGN</td>\n",
       "      <td>purchase</td>\n",
       "      <td>1,001</td>\n",
       "      <td>False</td>\n",
       "      <td>Amgen Inc</td>\n",
       "      <td>south</td>\n",
       "      <td>south</td>\n",
       "      <td>False</td>\n",
       "    </tr>\n",
       "    <tr>\n",
       "      <th>10871</th>\n",
       "      <td>2021</td>\n",
       "      <td>joint</td>\n",
       "      <td>KMX</td>\n",
       "      <td>sale_full</td>\n",
       "      <td>1,001</td>\n",
       "      <td>False</td>\n",
       "      <td>CarMax Inc</td>\n",
       "      <td>west</td>\n",
       "      <td>west</td>\n",
       "      <td>False</td>\n",
       "    </tr>\n",
       "    <tr>\n",
       "      <th>8491</th>\n",
       "      <td>2020</td>\n",
       "      <td>self</td>\n",
       "      <td>--</td>\n",
       "      <td>purchase</td>\n",
       "      <td>250,001</td>\n",
       "      <td>False</td>\n",
       "      <td>Bay area Toll RV Ca Toll Tran</td>\n",
       "      <td>west</td>\n",
       "      <td>west</td>\n",
       "      <td>True</td>\n",
       "    </tr>\n",
       "    <tr>\n",
       "      <th>5044</th>\n",
       "      <td>2021</td>\n",
       "      <td>self</td>\n",
       "      <td>CVET</td>\n",
       "      <td>purchase</td>\n",
       "      <td>1,001</td>\n",
       "      <td>False</td>\n",
       "      <td>Covetrus</td>\n",
       "      <td>midwest</td>\n",
       "      <td>west</td>\n",
       "      <td>False</td>\n",
       "    </tr>\n",
       "    <tr>\n",
       "      <th>13782</th>\n",
       "      <td>2022</td>\n",
       "      <td>joint</td>\n",
       "      <td>--</td>\n",
       "      <td>purchase</td>\n",
       "      <td>250,001</td>\n",
       "      <td>False</td>\n",
       "      <td>Illinois ST Sales Tax Rev JS Oblig 4% Due 06/1...</td>\n",
       "      <td>west</td>\n",
       "      <td>west</td>\n",
       "      <td>True</td>\n",
       "    </tr>\n",
       "  </tbody>\n",
       "</table>\n",
       "</div>"
      ],
      "text/plain": [
       "       disclosure_year    owner ticker       type   amount  \\\n",
       "1966              2022  missing   AMGN   purchase    1,001   \n",
       "10871             2021    joint    KMX  sale_full    1,001   \n",
       "8491              2020     self     --   purchase  250,001   \n",
       "5044              2021     self   CVET   purchase    1,001   \n",
       "13782             2022    joint     --   purchase  250,001   \n",
       "\n",
       "       cap_gains_over_200_usd  \\\n",
       "1966                    False   \n",
       "10871                   False   \n",
       "8491                    False   \n",
       "5044                    False   \n",
       "13782                   False   \n",
       "\n",
       "                                                   asset   region  preds  \\\n",
       "1966                                           Amgen Inc    south  south   \n",
       "10871                                         CarMax Inc     west   west   \n",
       "8491                       Bay area Toll RV Ca Toll Tran     west   west   \n",
       "5044                                            Covetrus  midwest   west   \n",
       "13782  Illinois ST Sales Tax Rev JS Oblig 4% Due 06/1...     west   west   \n",
       "\n",
       "       large_amount  \n",
       "1966          False  \n",
       "10871         False  \n",
       "8491           True  \n",
       "5044          False  \n",
       "13782          True  "
      ]
     },
     "execution_count": 50,
     "metadata": {},
     "output_type": "execute_result"
    }
   ],
   "source": [
    "X_test_final['region'] = y_test_final\n",
    "X_test_final['preds'] = pl_final.predict(X_test_final.drop(columns=['region']))\n",
    "X_test_final['large_amount'] = (X_test_final.amount.isin(['1,001'])).replace({True: False, False: True})\n",
    "X_test_final.head()"
   ]
  },
  {
   "cell_type": "code",
   "execution_count": 51,
   "id": "59927ff0",
   "metadata": {},
   "outputs": [
    {
     "data": {
      "text/plain": [
       "0.7245859872611465"
      ]
     },
     "execution_count": 51,
     "metadata": {},
     "output_type": "execute_result"
    }
   ],
   "source": [
    "(X_test_final['preds'] == X_test_final['region']).mean()"
   ]
  },
  {
   "cell_type": "code",
   "execution_count": 52,
   "id": "bf1dc1f1",
   "metadata": {},
   "outputs": [
    {
     "data": {
      "text/plain": [
       "0.12587947037061076"
      ]
     },
     "execution_count": 52,
     "metadata": {},
     "output_type": "execute_result"
    }
   ],
   "source": [
    "# observed score\n",
    "obs = X_test_final.groupby('large_amount').apply(lambda X_test_final: metrics.accuracy_score(\n",
    "        X_test_final['preds'], X_test_final['region'])).diff().iloc[-1]\n",
    "obs"
   ]
  },
  {
   "cell_type": "code",
   "execution_count": 53,
   "id": "a3d27526",
   "metadata": {},
   "outputs": [
    {
     "data": {
      "text/plain": [
       "large_amount\n",
       "False    0.689789\n",
       "True     0.815668\n",
       "dtype: float64"
      ]
     },
     "execution_count": 53,
     "metadata": {},
     "output_type": "execute_result"
    }
   ],
   "source": [
    "X_test_final.groupby('large_amount').apply(lambda X_test_final: metrics.accuracy_score(X_test_final['preds'], X_test_final['region']))"
   ]
  },
  {
   "cell_type": "markdown",
   "id": "b42dfdc9",
   "metadata": {},
   "source": [
    "Permutation of 100 rounds:"
   ]
  },
  {
   "cell_type": "code",
   "execution_count": 54,
   "id": "83091953",
   "metadata": {},
   "outputs": [],
   "source": [
    "deviations = []\n",
    "for _ in range(100):\n",
    "    s = (\n",
    "        X_test_final[['large_amount', 'preds', 'region']]\n",
    "        .assign(large_amount=X_test_final.large_amount.sample(frac=1.0, replace=False).reset_index(drop=True))\n",
    "        .groupby('large_amount')\n",
    "        .apply(lambda X_test_final: metrics.accuracy_score(X_test_final['preds'], X_test_final['region']))\n",
    "        .diff()\n",
    "        .iloc[-1]\n",
    "    )\n",
    "    deviations.append(s)"
   ]
  },
  {
   "cell_type": "markdown",
   "id": "bd5c41f1",
   "metadata": {},
   "source": [
    "#### P-value"
   ]
  },
  {
   "cell_type": "code",
   "execution_count": 55,
   "id": "6b64a06f",
   "metadata": {},
   "outputs": [
    {
     "data": {
      "text/plain": [
       "0.0"
      ]
     },
     "execution_count": 55,
     "metadata": {},
     "output_type": "execute_result"
    }
   ],
   "source": [
    "(deviations > obs).mean()"
   ]
  },
  {
   "cell_type": "code",
   "execution_count": 56,
   "id": "01eda399",
   "metadata": {},
   "outputs": [
    {
     "data": {
      "image/png": "[encoded data removed]",
      "text/plain": [
       "<Figure size 1000x500 with 1 Axes>"
      ]
     },
     "metadata": {
      "image/png": {
       "height": 450,
       "width": 841
      }
     },
     "output_type": "display_data"
    }
   ],
   "source": [
    "plt.figure(figsize=(10, 5))\n",
    "pd.Series(deviations).plot(kind='hist', ec='w', density=True, bins=15, title='Difference in Accuracy')\n",
    "plt.axvline(x=obs, color='red', label='observed difference in accuracy')\n",
    "plt.legend(loc='upper left');"
   ]
  },
  {
   "cell_type": "markdown",
   "id": "d9bbb82e",
   "metadata": {},
   "source": [
    "### Conclusion:\n",
    "With a p-value of 0.0 and a significance level of 0.05, we reject the null and conclude that our classification model is not fair in regards to the amount of money traded using accuracy as oue measure. The result of our permutation test suggests that the trades with trading amount of over 15,000 have higher accuracy of correctly classifying the geographic location that the representative who took that trade reside in. Therefore, with regards to the trading amount, our classification model is not fair.\n",
    "\n",
    "For future improvement of the model, we would be more selective with the training dataset and ensure that for each prediction variable that we are using, there isn't a notable unbalance within the categories. This would reduce the possibility of building a model that compromises fairness. In the meantime, we would look for ways to increase the accuracy of our classification model. Since our final model's training score was very high while our test score was mediocre, this means that there's a high possibility that our model is overfitting on the training data. So in order to improve the model's performance, a further tuning of the hyperparameters is needed. "
   ]
  }
 ],
 "metadata": {
  "kernelspec": {
   "display_name": "Python 3 (ipykernel)",
   "language": "python",
   "name": "python3"
  },
  "language_info": {
   "codemirror_mode": {
    "name": "ipython",
    "version": 3
   },
   "file_extension": ".py",
   "mimetype": "text/x-python",
   "name": "python",
   "nbconvert_exporter": "python",
   "pygments_lexer": "ipython3",
   "version": "3.8.13"
  }
 },
 "nbformat": 4,
 "nbformat_minor": 5
}
